{
 "cells": [
  {
   "cell_type": "markdown",
   "metadata": {},
   "source": [
    "## Ex.1\n",
    "Make an artificial DNA sequence of 200-400 bases in length in which to simulate 3-4 transposable elements. "
   ]
  },
  {
   "cell_type": "code",
   "execution_count": 1,
   "metadata": {},
   "outputs": [
    {
     "name": "stdout",
     "output_type": "stream",
     "text": [
      "Sequence length: 375 bases\n",
      "\n",
      "Transposable Elements:\n",
      "\n",
      "Element 1:\n",
      "Position: 50\n",
      "Length: 30\n",
      "Sequence: AACCGTAATGCATGTAGGTTTCATACGGTT\n",
      "Left IR: AACCG\n",
      "Right IR: CGGTT\n",
      "\n",
      "Element 2:\n",
      "Position: 150\n",
      "Length: 25\n",
      "Sequence: ATACCGGCATAAAGTAGTGCGGTAT\n",
      "Left IR: ATACC\n",
      "Right IR: GGTAT\n",
      "\n",
      "Element 3:\n",
      "Position: 250\n",
      "Length: 20\n",
      "Sequence: GATGAGGCTCCATATTCATC\n",
      "Left IR: GATGA\n",
      "Right IR: TCATC\n",
      "\n",
      "Complete sequence:\n",
      "AGTCCTTAACTGCCCGGAAGTATTGTACGAACGGACCAACTCAGAGCATTAACCGTAATGCATGTAGGTTTCATACGGTTGGCAGTAATTATTTTAGTAGTCGAAACAGGGTCACGTAGTCTCCTTACATGGAGCCCCTGGTGCAACAGTGCTGAACGGTGTTTACAAGGTTAGGCGTTAATACCGGCATAAAGTAGTGCGGTATTCGGACATTTTGAGACGGCGCCGCGAGAGTGAAGTCTCTCATAACTTCATGCCCAAATTGCCATTGTGAACTTCCCTAAGGTTTACTCTCCTTGACGCATGATGAGGCTCCATATTCATCGACGCTTCGCGTCGTATAGCTCCCGCTTATTTATTCTTCCGCATAACATC\n"
     ]
    }
   ],
   "source": [
    "import random\n",
    "\n",
    "def generate_random_dna(length):\n",
    "    \"\"\"Generate a random DNA sequence of given length\"\"\"\n",
    "    return ''.join(random.choice('ATCG') for _ in range(length))\n",
    "\n",
    "def create_transposable_element(length):\n",
    "    \"\"\"Create a transposable element with inverted repeats\"\"\"\n",
    "    # Create inverted repeats (5bp each)\n",
    "    left_ir = ''.join(random.choice('ATCG') for _ in range(5))\n",
    "    right_ir = ''.join(reversed([{'A':'T', 'T':'A', 'C':'G', 'G':'C'}[base] for base in left_ir]))\n",
    "    \n",
    "    # Create internal sequence\n",
    "    internal = generate_random_dna(length - 10)  # -10 for the two 5bp IRs\n",
    "    \n",
    "    return left_ir + internal + right_ir\n",
    "\n",
    "def create_artificial_sequence():\n",
    "    \"\"\"Create DNA sequence with embedded transposable elements\"\"\"\n",
    "    # Generate base sequence (300bp)\n",
    "    sequence = generate_random_dna(300)\n",
    "    \n",
    "    # Create 3 transposable elements of different sizes\n",
    "    te1 = create_transposable_element(30)  # 30bp element\n",
    "    te2 = create_transposable_element(25)  # 25bp element\n",
    "    te3 = create_transposable_element(20)  # 20bp element\n",
    "    \n",
    "    # Insert elements at specific positions\n",
    "    positions = [50, 150, 250]\n",
    "    elements = [te1, te2, te3]\n",
    "    \n",
    "    # Build final sequence with inserted elements\n",
    "    final_sequence = sequence[:positions[0]]\n",
    "    for i, pos in enumerate(positions):\n",
    "        if i < len(positions) - 1:\n",
    "            final_sequence += elements[i] + sequence[pos:positions[i+1]]\n",
    "        else:\n",
    "            final_sequence += elements[i] + sequence[pos:]\n",
    "            \n",
    "    return final_sequence, elements, positions\n",
    "\n",
    "# Generate sequence and print information\n",
    "sequence, elements, positions = create_artificial_sequence()\n",
    "print(f\"Sequence length: {len(sequence)} bases\")\n",
    "print(\"\\nTransposable Elements:\")\n",
    "for i, (element, pos) in enumerate(zip(elements, positions), 1):\n",
    "    print(f\"\\nElement {i}:\")\n",
    "    print(f\"Position: {pos}\")\n",
    "    print(f\"Length: {len(element)}\")\n",
    "    print(f\"Sequence: {element}\")\n",
    "    print(f\"Left IR: {element[:5]}\")\n",
    "    print(f\"Right IR: {element[-5:]}\")\n",
    "\n",
    "print(\"\\nComplete sequence:\")\n",
    "print(sequence)"
   ]
  },
  {
   "cell_type": "code",
   "execution_count": null,
   "metadata": {},
   "outputs": [],
   "source": []
  }
 ],
 "metadata": {
  "kernelspec": {
   "display_name": "notebookFSP",
   "language": "python",
   "name": "python3"
  },
  "language_info": {
   "codemirror_mode": {
    "name": "ipython",
    "version": 3
   },
   "file_extension": ".py",
   "mimetype": "text/x-python",
   "name": "python",
   "nbconvert_exporter": "python",
   "pygments_lexer": "ipython3",
   "version": "3.12.7"
  }
 },
 "nbformat": 4,
 "nbformat_minor": 2
}
