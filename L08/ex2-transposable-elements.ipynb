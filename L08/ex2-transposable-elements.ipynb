{
 "cells": [
  {
   "cell_type": "markdown",
   "metadata": {},
   "source": [
    "## Ex.2\n",
    "Implement a software app that is able to detect the positions of these transposable elements (starts, end) within the created DNA sequence. Note that a transpose is represented by 2 repeats that enclosed a region of DNA. Also take into consideration the special cases such as transpose intersection on transpose engulfing (that case in which a small transpose is positioned inside a bigger transposome).\n",
    "\n",
    "Note that you can invent the inverted repeats for the purpose of the assignment. Also the insertion of the inverted repeats into a randomly generated DNA sequence dictates the known positions of our transposomes to understand what inverted repeats are use the presentation from Moodle in relation with transposomes."
   ]
  },
  {
   "cell_type": "markdown",
   "metadata": {},
   "source": [
    "## Check: \n",
    "- `transposon_detector.py`\n",
    "- `test_transposon_detector.py`"
   ]
  },
  {
   "cell_type": "markdown",
   "metadata": {},
   "source": []
  }
 ],
 "metadata": {
  "kernelspec": {
   "display_name": "notebookFSP",
   "language": "python",
   "name": "python3"
  },
  "language_info": {
   "name": "python",
   "version": "3.12.7"
  }
 },
 "nbformat": 4,
 "nbformat_minor": 2
}
