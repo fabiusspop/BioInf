{
 "cells": [
  {
   "cell_type": "markdown",
   "id": "191205ea-0a5f-49c3-82f7-b2ea21325d0c",
   "metadata": {},
   "source": [
    "### Make a brute force engine which provides a list of combinations of groups of 2-3 nucleotides (dinucleotides and trinucleodites).\n",
    "#### Make a filter for anything outside the 4 letters (A T C G)\n",
    "##### Replace \"N\" with emptyspace"
   ]
  },
  {
   "cell_type": "code",
   "execution_count": 1,
   "id": "0f0fed70-72a1-4390-b8e2-79ede0be8808",
   "metadata": {
    "collapsed": true,
    "jupyter": {
     "outputs_hidden": true
    }
   },
   "outputs": [
    {
     "name": "stdout",
     "output_type": "stream",
     "text": [
      "Collecting tensorflow-cpu\n",
      "  Downloading tensorflow_cpu-2.17.0-cp312-cp312-win_amd64.whl.metadata (3.2 kB)\n",
      "Requirement already satisfied: tensorflow-intel==2.17.0 in c:\\users\\fabius s pop\\desktop\\notebookfsp\\lib\\site-packages (from tensorflow-cpu) (2.17.0)\n",
      "Requirement already satisfied: absl-py>=1.0.0 in c:\\users\\fabius s pop\\desktop\\notebookfsp\\lib\\site-packages (from tensorflow-intel==2.17.0->tensorflow-cpu) (2.1.0)\n",
      "Requirement already satisfied: astunparse>=1.6.0 in c:\\users\\fabius s pop\\desktop\\notebookfsp\\lib\\site-packages (from tensorflow-intel==2.17.0->tensorflow-cpu) (1.6.3)\n",
      "Requirement already satisfied: flatbuffers>=24.3.25 in c:\\users\\fabius s pop\\desktop\\notebookfsp\\lib\\site-packages (from tensorflow-intel==2.17.0->tensorflow-cpu) (24.3.25)\n",
      "Requirement already satisfied: gast!=0.5.0,!=0.5.1,!=0.5.2,>=0.2.1 in c:\\users\\fabius s pop\\desktop\\notebookfsp\\lib\\site-packages (from tensorflow-intel==2.17.0->tensorflow-cpu) (0.6.0)\n",
      "Requirement already satisfied: google-pasta>=0.1.1 in c:\\users\\fabius s pop\\desktop\\notebookfsp\\lib\\site-packages (from tensorflow-intel==2.17.0->tensorflow-cpu) (0.2.0)\n",
      "Requirement already satisfied: h5py>=3.10.0 in c:\\users\\fabius s pop\\desktop\\notebookfsp\\lib\\site-packages (from tensorflow-intel==2.17.0->tensorflow-cpu) (3.12.1)\n",
      "Requirement already satisfied: libclang>=13.0.0 in c:\\users\\fabius s pop\\desktop\\notebookfsp\\lib\\site-packages (from tensorflow-intel==2.17.0->tensorflow-cpu) (18.1.1)\n",
      "Requirement already satisfied: ml-dtypes<0.5.0,>=0.3.1 in c:\\users\\fabius s pop\\desktop\\notebookfsp\\lib\\site-packages (from tensorflow-intel==2.17.0->tensorflow-cpu) (0.4.1)\n",
      "Requirement already satisfied: opt-einsum>=2.3.2 in c:\\users\\fabius s pop\\desktop\\notebookfsp\\lib\\site-packages (from tensorflow-intel==2.17.0->tensorflow-cpu) (3.4.0)\n",
      "Requirement already satisfied: packaging in c:\\users\\fabius s pop\\desktop\\notebookfsp\\lib\\site-packages (from tensorflow-intel==2.17.0->tensorflow-cpu) (24.1)\n",
      "Requirement already satisfied: protobuf!=4.21.0,!=4.21.1,!=4.21.2,!=4.21.3,!=4.21.4,!=4.21.5,<5.0.0dev,>=3.20.3 in c:\\users\\fabius s pop\\desktop\\notebookfsp\\lib\\site-packages (from tensorflow-intel==2.17.0->tensorflow-cpu) (4.25.5)\n",
      "Requirement already satisfied: requests<3,>=2.21.0 in c:\\users\\fabius s pop\\desktop\\notebookfsp\\lib\\site-packages (from tensorflow-intel==2.17.0->tensorflow-cpu) (2.32.3)\n",
      "Requirement already satisfied: setuptools in c:\\users\\fabius s pop\\desktop\\notebookfsp\\lib\\site-packages (from tensorflow-intel==2.17.0->tensorflow-cpu) (75.2.0)\n",
      "Requirement already satisfied: six>=1.12.0 in c:\\users\\fabius s pop\\desktop\\notebookfsp\\lib\\site-packages (from tensorflow-intel==2.17.0->tensorflow-cpu) (1.16.0)\n",
      "Requirement already satisfied: termcolor>=1.1.0 in c:\\users\\fabius s pop\\desktop\\notebookfsp\\lib\\site-packages (from tensorflow-intel==2.17.0->tensorflow-cpu) (2.5.0)\n",
      "Requirement already satisfied: typing-extensions>=3.6.6 in c:\\users\\fabius s pop\\desktop\\notebookfsp\\lib\\site-packages (from tensorflow-intel==2.17.0->tensorflow-cpu) (4.12.2)\n",
      "Requirement already satisfied: wrapt>=1.11.0 in c:\\users\\fabius s pop\\desktop\\notebookfsp\\lib\\site-packages (from tensorflow-intel==2.17.0->tensorflow-cpu) (1.16.0)\n",
      "Requirement already satisfied: grpcio<2.0,>=1.24.3 in c:\\users\\fabius s pop\\desktop\\notebookfsp\\lib\\site-packages (from tensorflow-intel==2.17.0->tensorflow-cpu) (1.67.0)\n",
      "Requirement already satisfied: tensorboard<2.18,>=2.17 in c:\\users\\fabius s pop\\desktop\\notebookfsp\\lib\\site-packages (from tensorflow-intel==2.17.0->tensorflow-cpu) (2.17.1)\n",
      "Requirement already satisfied: keras>=3.2.0 in c:\\users\\fabius s pop\\desktop\\notebookfsp\\lib\\site-packages (from tensorflow-intel==2.17.0->tensorflow-cpu) (3.6.0)\n",
      "Requirement already satisfied: numpy<2.0.0,>=1.26.0 in c:\\users\\fabius s pop\\desktop\\notebookfsp\\lib\\site-packages (from tensorflow-intel==2.17.0->tensorflow-cpu) (1.26.4)\n",
      "Requirement already satisfied: wheel<1.0,>=0.23.0 in c:\\users\\fabius s pop\\desktop\\notebookfsp\\lib\\site-packages (from astunparse>=1.6.0->tensorflow-intel==2.17.0->tensorflow-cpu) (0.44.0)\n",
      "Requirement already satisfied: rich in c:\\users\\fabius s pop\\desktop\\notebookfsp\\lib\\site-packages (from keras>=3.2.0->tensorflow-intel==2.17.0->tensorflow-cpu) (13.9.2)\n",
      "Requirement already satisfied: namex in c:\\users\\fabius s pop\\desktop\\notebookfsp\\lib\\site-packages (from keras>=3.2.0->tensorflow-intel==2.17.0->tensorflow-cpu) (0.0.8)\n",
      "Requirement already satisfied: optree in c:\\users\\fabius s pop\\desktop\\notebookfsp\\lib\\site-packages (from keras>=3.2.0->tensorflow-intel==2.17.0->tensorflow-cpu) (0.13.0)\n",
      "Requirement already satisfied: charset-normalizer<4,>=2 in c:\\users\\fabius s pop\\desktop\\notebookfsp\\lib\\site-packages (from requests<3,>=2.21.0->tensorflow-intel==2.17.0->tensorflow-cpu) (3.4.0)\n",
      "Requirement already satisfied: idna<4,>=2.5 in c:\\users\\fabius s pop\\desktop\\notebookfsp\\lib\\site-packages (from requests<3,>=2.21.0->tensorflow-intel==2.17.0->tensorflow-cpu) (3.10)\n",
      "Requirement already satisfied: urllib3<3,>=1.21.1 in c:\\users\\fabius s pop\\desktop\\notebookfsp\\lib\\site-packages (from requests<3,>=2.21.0->tensorflow-intel==2.17.0->tensorflow-cpu) (2.2.3)\n",
      "Requirement already satisfied: certifi>=2017.4.17 in c:\\users\\fabius s pop\\desktop\\notebookfsp\\lib\\site-packages (from requests<3,>=2.21.0->tensorflow-intel==2.17.0->tensorflow-cpu) (2024.8.30)\n",
      "Requirement already satisfied: markdown>=2.6.8 in c:\\users\\fabius s pop\\desktop\\notebookfsp\\lib\\site-packages (from tensorboard<2.18,>=2.17->tensorflow-intel==2.17.0->tensorflow-cpu) (3.7)\n",
      "Requirement already satisfied: tensorboard-data-server<0.8.0,>=0.7.0 in c:\\users\\fabius s pop\\desktop\\notebookfsp\\lib\\site-packages (from tensorboard<2.18,>=2.17->tensorflow-intel==2.17.0->tensorflow-cpu) (0.7.2)\n",
      "Requirement already satisfied: werkzeug>=1.0.1 in c:\\users\\fabius s pop\\desktop\\notebookfsp\\lib\\site-packages (from tensorboard<2.18,>=2.17->tensorflow-intel==2.17.0->tensorflow-cpu) (3.0.4)\n",
      "Requirement already satisfied: MarkupSafe>=2.1.1 in c:\\users\\fabius s pop\\desktop\\notebookfsp\\lib\\site-packages (from werkzeug>=1.0.1->tensorboard<2.18,>=2.17->tensorflow-intel==2.17.0->tensorflow-cpu) (3.0.2)\n",
      "Requirement already satisfied: markdown-it-py>=2.2.0 in c:\\users\\fabius s pop\\desktop\\notebookfsp\\lib\\site-packages (from rich->keras>=3.2.0->tensorflow-intel==2.17.0->tensorflow-cpu) (3.0.0)\n",
      "Requirement already satisfied: pygments<3.0.0,>=2.13.0 in c:\\users\\fabius s pop\\desktop\\notebookfsp\\lib\\site-packages (from rich->keras>=3.2.0->tensorflow-intel==2.17.0->tensorflow-cpu) (2.18.0)\n",
      "Requirement already satisfied: mdurl~=0.1 in c:\\users\\fabius s pop\\desktop\\notebookfsp\\lib\\site-packages (from markdown-it-py>=2.2.0->rich->keras>=3.2.0->tensorflow-intel==2.17.0->tensorflow-cpu) (0.1.2)\n",
      "Downloading tensorflow_cpu-2.17.0-cp312-cp312-win_amd64.whl (2.1 kB)\n",
      "Installing collected packages: tensorflow-cpu\n",
      "Successfully installed tensorflow-cpu-2.17.0\n",
      "Note: you may need to restart the kernel to use updated packages.\n"
     ]
    }
   ],
   "source": [
    "pip install tensorflow-cpu"
   ]
  },
  {
   "cell_type": "code",
   "execution_count": 1,
   "id": "d7d1dc52-deb8-44cb-b2d0-f03b35695658",
   "metadata": {},
   "outputs": [],
   "source": [
    "import itertools\n",
    "from collections import defaultdict"
   ]
  },
  {
   "cell_type": "code",
   "execution_count": 36,
   "id": "5a4e65d1-ebb6-425f-bfd4-09382edb02ae",
   "metadata": {},
   "outputs": [],
   "source": [
    "def read_and_clean_fasta(file_name):\n",
    "    genomes = {}\n",
    "    current_header = None\n",
    "    current_seq = []\n",
    "    \n",
    "    with open(file_name, 'r') as file:\n",
    "        for line in file:\n",
    "            line = line.strip()\n",
    "            if line.startswith(\">\"):  \n",
    "                if current_header:\n",
    "                    cleaned_sequence = ''.join(current_seq).replace(\"N\", \"\")  # N\n",
    "                    genomes[current_header] = ''.join([char for char in cleaned_sequence if char in \"ATCG\"])\n",
    "                current_header = line[1:]  # >\n",
    "                current_seq = []\n",
    "            else:\n",
    "                current_seq.append(line)\n",
    "        \n",
    "        if current_header:\n",
    "            cleaned_sequence = ''.join(current_seq).replace(\"N\", \"\")  # Last genome, remove 'N'\n",
    "            genomes[current_header] = ''.join([char for char in cleaned_sequence if char in \"ATCG\"])\n",
    "    \n",
    "    return genomes"
   ]
  },
  {
   "cell_type": "code",
   "execution_count": 37,
   "id": "31fab25e-1993-41a0-a172-c2f375fb3305",
   "metadata": {},
   "outputs": [],
   "source": [
    "def generate_nucleotide_combinations(sequence, group_size):\n",
    "    combinations = defaultdict(int)\n",
    "    \n",
    "    for i in range(len(sequence) - group_size + 1):\n",
    "        group = sequence[i:i + group_size]\n",
    "        combinations[group] += 1\n",
    "    \n",
    "    return combinations"
   ]
  },
  {
   "cell_type": "code",
   "execution_count": 38,
   "id": "6c70c6a5-180a-4a2e-b7d2-54d5d473a96f",
   "metadata": {},
   "outputs": [],
   "source": [
    "def brute_force_engine(file_name):\n",
    "    genomes = read_and_clean_fasta(file_name)\n",
    "    \n",
    "    for genome_name, sequence in genomes.items():\n",
    "        print(f\"Processing genome: {genome_name}\")\n",
    "        \n",
    "        dinucleotides = generate_nucleotide_combinations(sequence, 2)\n",
    "        print(\"\\nDinucleotide combinations + counts:\")\n",
    "        for comb, count in dinucleotides.items():\n",
    "            print(f\"{comb}: {count}\")\n",
    "        \n",
    "        trinucleotides = generate_nucleotide_combinations(sequence, 3)\n",
    "        print(\"\\nTrinucleotide combinations + counts:\")\n",
    "        for comb, count in trinucleotides.items():\n",
    "            print(f\"{comb}: {count}\")"
   ]
  },
  {
   "cell_type": "code",
   "execution_count": 39,
   "id": "d8231587-c348-4e2c-ab8f-9a5598b0473d",
   "metadata": {},
   "outputs": [
    {
     "name": "stdout",
     "output_type": "stream",
     "text": [
      "Processing genome: NC_000013.11 Homo sapiens chromosome 13, GRCh38.p14 Primary Assembly\n",
      "\n",
      "Dinucleotide combinations + counts:\n",
      "AG: 6615960\n",
      "GC: 3759122\n",
      "CA: 6952415\n",
      "AT: 8253782\n",
      "TT: 10357652\n",
      "TC: 5716274\n",
      "CT: 6605441\n",
      "TG: 6998638\n",
      "GA: 5752103\n",
      "AA: 10252939\n",
      "TA: 7090153\n",
      "AC: 4924930\n",
      "GT: 4945842\n",
      "CC: 4438866\n",
      "GG: 4476537\n",
      "CG: 842470\n",
      "\n",
      "Trinucleotide combinations + counts:\n",
      "AGC: 1275626\n",
      "GCA: 1349308\n",
      "CAT: 1877183\n",
      "ATT: 2736424\n",
      "TTC: 2021369\n",
      "TCT: 2198494\n",
      "CTG: 1792630\n",
      "TGA: 1961342\n",
      "GAG: 1494016\n",
      "AGA: 2182820\n",
      "GAA: 2030411\n",
      "AAA: 4063909\n",
      "AAT: 2708652\n",
      "TTA: 2275486\n",
      "TAC: 1171524\n",
      "ACT: 1604418\n",
      "CTT: 2012785\n",
      "TTT: 4116325\n",
      "TTG: 1944472\n",
      "TGT: 2055222\n",
      "GTG: 1400672\n",
      "GAT: 1348879\n",
      "ATG: 1860864\n",
      "TGC: 1332316\n",
      "TCA: 1945061\n",
      "ATC: 1332697\n",
      "CAC: 1376743\n",
      "ACA: 2043793\n",
      "CAA: 1877457\n",
      "AAG: 1982512\n",
      "AGT: 1610424\n",
      "GTT: 1492118\n",
      "AAC: 1497866\n",
      "ACC: 1036375\n",
      "CCT: 1549871\n",
      "TGG: 1649758\n",
      "GGT: 1042254\n",
      "CAG: 1821032\n",
      "CTC: 1490829\n",
      "GTA: 1181673\n",
      "TAG: 1318399\n",
      "TAA: 2281162\n",
      "GGA: 1416543\n",
      "ATA: 2323797\n",
      "TAT: 2319068\n",
      "AGG: 1547089\n",
      "GGC: 960069\n",
      "GCT: 1252658\n",
      "CTA: 1309197\n",
      "CCA: 1614253\n",
      "TCC: 1374236\n",
      "GAC: 878797\n",
      "ACG: 240344\n",
      "CGC: 191111\n",
      "GCC: 967131\n",
      "GTC: 871379\n",
      "CGG: 222019\n",
      "CCC: 1061124\n",
      "GGG: 1057671\n",
      "TCG: 198483\n",
      "CGT: 237942\n",
      "GCG: 190025\n",
      "CGA: 191398\n",
      "CCG: 213618\n"
     ]
    }
   ],
   "source": [
    "file_name = \"sequence.fasta\"\n",
    "brute_force_engine(file_name)"
   ]
  },
  {
   "cell_type": "code",
   "execution_count": null,
   "id": "0c6e71d6-149f-4217-ae53-d460661bea99",
   "metadata": {},
   "outputs": [],
   "source": []
  }
 ],
 "metadata": {
  "kernelspec": {
   "display_name": "notebookFSP",
   "language": "python",
   "name": "notebookfsp"
  },
  "language_info": {
   "codemirror_mode": {
    "name": "ipython",
    "version": 3
   },
   "file_extension": ".py",
   "mimetype": "text/x-python",
   "name": "python",
   "nbconvert_exporter": "python",
   "pygments_lexer": "ipython3",
   "version": "3.12.7"
  }
 },
 "nbformat": 4,
 "nbformat_minor": 5
}
