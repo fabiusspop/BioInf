{
 "cells": [
  {
   "cell_type": "markdown",
   "id": "74dc5392-0e59-46d0-8de1-2b4b14124b94",
   "metadata": {},
   "source": [
    "# Melting Temperature Calculation\n",
    "## Pop Fabius 1241B\n",
    "\n",
    "This notebook covers an application that calculates the melting temperature (Tm) of a DNA sequence."
   ]
  },
  {
   "cell_type": "markdown",
   "id": "ca2d2368-f046-407e-aa25-a5caed67504a",
   "metadata": {},
   "source": [
    "## Two formulas are given: \n",
    "\n",
    "1. Basic Formula:\n",
    "   `Tm = 4(G + C) + 2(A - T)`,\n",
    "\n",
    "   where A, C, G, T are *nucleotides*\n",
    "\n",
    "3. Advanced Formula:\n",
    "    `Tm = 81.5 + 16.6 * log_10([Na+]) + 0.41 * (%GC) - 600/length`,\n",
    "\n",
    "   where:\n",
    "\n",
    "   **[Na+]** is the concentration of sodium ions\n",
    "\n",
    "   **%GC** is the percentage of guanine and cytosine in the DNA sequence\n",
    "\n",
    "   **length** is the total length of the DNA sequence."
   ]
  },
  {
   "cell_type": "markdown",
   "id": "c5517597-943a-45f6-8437-b43271d77d09",
   "metadata": {},
   "source": [
    "## Two formulas are given: \n",
    "\n",
    "1. Basic Formula:\n",
    "   `Tm = 4(G + C) + 2(A - T)`,\n",
    "\n",
    "   where A, C, G, T are *nucleotides*\n",
    "\n",
    "3. Advanced Formula:\n",
    "    `Tm = 81.5 + 16.6 * log_10([Na+]) + 0.41 * (%GC) - 600/length`,\n",
    "\n",
    "   where:\n",
    "\n",
    "   **[Na+]** is the concentration of sodium ions\n",
    "\n",
    "   **%GC** is the percentage of guanine and cytosine in the DNA sequence\n",
    "\n",
    "   **length** is the total length of the DNA sequence."
   ]
  },
  {
   "cell_type": "markdown",
   "id": "dc37423c-ed94-45bd-b59c-602d943d94c7",
   "metadata": {},
   "source": [
    "### Approach: \n",
    "- Parse the DNA Sequence.\n",
    "- Calculate Tm using both formulas."
   ]
  },
  {
   "cell_type": "markdown",
   "id": "fb97cb57-880a-4926-8a06-4df443e4821a",
   "metadata": {},
   "source": [
    "## Code Implementation:"
   ]
  },
  {
   "cell_type": "code",
   "execution_count": 58,
   "id": "dae8ccdd-bb03-4705-9470-bdcba5eb1f55",
   "metadata": {},
   "outputs": [],
   "source": [
    "import math"
   ]
  },
  {
   "cell_type": "markdown",
   "id": "a1d8ac99-049a-456b-814a-beb722e2a7e9",
   "metadata": {},
   "source": [
    "### 1. Basic Formula function"
   ]
  },
  {
   "cell_type": "code",
   "execution_count": 59,
   "id": "491b1b1a-a136-406d-bc49-f01ed49e5a0d",
   "metadata": {},
   "outputs": [],
   "source": [
    "def calculate_basic_tm(dna_sequence):\n",
    "    a_count = dna_sequence.count('A')\n",
    "    c_count = dna_sequence.count('C')\n",
    "    g_count = dna_sequence.count('G')\n",
    "    t_count = dna_sequence.count('T')\n",
    "\n",
    "    t_m = 4 * (g_count + c_count) + 2 * (a_count + t_count)\n",
    "\n",
    "    return t_m"
   ]
  },
  {
   "cell_type": "markdown",
   "id": "634f20ff-c569-483f-966e-9bc134e26ec1",
   "metadata": {},
   "source": [
    "### 2. Advanced Formula function"
   ]
  },
  {
   "cell_type": "code",
   "execution_count": 60,
   "id": "6955dffe-159f-47f3-bcff-42880a66bde4",
   "metadata": {},
   "outputs": [],
   "source": [
    "def calculate_advanced_tm(dna_sequence, sodium_concentration):\n",
    "    # Calc. length and %GC\n",
    "    length = len(dna_sequence)\n",
    "    gc_count = dna_sequence.count('G') + dna_sequence.count('C')\n",
    "    percent_gc = (gc_count / length) * 100\n",
    "\n",
    "    t_m = 81.5 + 16.6 * math.log10(sodium_concentration) + 0.41 * percent_gc - (600 / length)\n",
    "\n",
    "    return t_m"
   ]
  },
  {
   "cell_type": "markdown",
   "id": "40cca550-c8ab-43f8-8455-ae958b9ad0a1",
   "metadata": {},
   "source": [
    "#### Enter your sequence here:"
   ]
  },
  {
   "cell_type": "code",
   "execution_count": 61,
   "id": "018194ba-45a8-4e26-812f-4558a745e4b4",
   "metadata": {},
   "outputs": [],
   "source": [
    "dna_sequence = \"AGGCGACCACATAGCTAGC\""
   ]
  },
  {
   "cell_type": "markdown",
   "id": "5f040342-c069-4413-a2d5-590ff712cf59",
   "metadata": {},
   "source": [
    "#### Using 1. Basic formula:"
   ]
  },
  {
   "cell_type": "code",
   "execution_count": 62,
   "id": "2159430e-e75b-4b9a-9a5e-019ecff27c9e",
   "metadata": {},
   "outputs": [
    {
     "name": "stdout",
     "output_type": "stream",
     "text": [
      "Basic T_m = 60.00 C\n"
     ]
    }
   ],
   "source": [
    "basic_tm = calculate_basic_tm(dna_sequence)\n",
    "\n",
    "print(f'Basic T_m = {basic_tm:.2f} C')"
   ]
  },
  {
   "cell_type": "markdown",
   "id": "4c89e31c-0834-478d-b85f-df36d5040401",
   "metadata": {},
   "source": [
    "#### Using 2. Advanced formula:"
   ]
  },
  {
   "cell_type": "code",
   "execution_count": 63,
   "id": "d298f186-92b6-436d-8901-e393e9731833",
   "metadata": {},
   "outputs": [
    {
     "name": "stdout",
     "output_type": "stream",
     "text": [
      "Advanced T_m = 101.86 C\n"
     ]
    }
   ],
   "source": [
    "sodium_concentration = 50\n",
    "\n",
    "advanced_tm = calculate_advanced_tm(dna_sequence, sodium_concentration)\n",
    "\n",
    "print(f'Advanced T_m = {advanced_tm:.2f} C')"
   ]
  },
  {
   "cell_type": "markdown",
   "id": "c8837264-2db8-4775-b582-35bbec014ca9",
   "metadata": {},
   "source": [
    "### Alternative formula:\n",
    "\n",
    "`T_m = 81.5 - 16.6 + (0.41 * %GC) - 600 / length`"
   ]
  },
  {
   "cell_type": "code",
   "execution_count": 64,
   "id": "ea714e9a-a576-48e0-a32f-50550906b31a",
   "metadata": {},
   "outputs": [],
   "source": [
    "def calculate_alternative_tm(dna_sequence):\n",
    "    # Calc. length and %GC\n",
    "    length = len(dna_sequence)\n",
    "    gc_count = dna_sequence.count('G') + dna_sequence.count('C')\n",
    "    percent_gc = (gc_count / length) * 100\n",
    "\n",
    "    t_m = 81.5 + 16.6 + (0.41 - percent_gc) - (600 / length)\n",
    "\n",
    "    return t_m"
   ]
  },
  {
   "cell_type": "code",
   "execution_count": 65,
   "id": "823f5277-f7da-43f0-8498-aca78ebdc757",
   "metadata": {},
   "outputs": [],
   "source": [
    "#### Testing alternative formula:"
   ]
  },
  {
   "cell_type": "code",
   "execution_count": 66,
   "id": "c651805e-cbc5-4ded-b1d7-a5799176c3a3",
   "metadata": {},
   "outputs": [
    {
     "name": "stdout",
     "output_type": "stream",
     "text": [
      "Alternative T_m = 9.04 C\n"
     ]
    }
   ],
   "source": [
    "dna_sequence = \"AGGCGACCACATAGCTAGC\"\n",
    "\n",
    "alternative_tm = calculate_alternative_tm(dna_sequence)\n",
    "\n",
    "print(f'Alternative T_m = {alternative_tm:.2f} C')"
   ]
  }
 ],
 "metadata": {
  "kernelspec": {
   "display_name": "notebookFSP",
   "language": "python",
   "name": "notebookfsp"
  },
  "language_info": {
   "codemirror_mode": {
    "name": "ipython",
    "version": 3
   },
   "file_extension": ".py",
   "mimetype": "text/x-python",
   "name": "python",
   "nbconvert_exporter": "python",
   "pygments_lexer": "ipython3",
   "version": "3.12.7"
  }
 },
 "nbformat": 4,
 "nbformat_minor": 5
}
