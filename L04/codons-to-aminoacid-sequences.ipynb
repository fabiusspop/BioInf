{
 "cells": [
  {
   "cell_type": "markdown",
   "id": "2156c385-a72e-4292-b4bf-125b40ffa269",
   "metadata": {},
   "source": [
    "# Converting `codons` to `aminoacid sequences`"
   ]
  },
  {
   "cell_type": "markdown",
   "id": "3381fb72-c364-41da-8e17-0665ee93c2a2",
   "metadata": {},
   "source": [
    "Implement an application that converts the coding region of a gene, into an aminoacid sequence. In order to start, use the genetic code (the table is available on moodle), note that the translation process must start with an ATG codon, so the reading frame is based on a multiple of 3 letters, until a stop codon is encountered. (Note that there are 3 versions of a stop codon, see the table).\n",
    "\n",
    "The input of this application will be a **DNA sequence**.\n",
    "The output of this application will be an **aminoacid sequence**, each aminoacid being represented using single letters. \n",
    "\n",
    "Look on the internet for the `aminoacid table` that shows single-letter representations for aminoacids.  "
   ]
  },
  {
   "cell_type": "markdown",
   "id": "c8fd505a-4626-48eb-865a-39d5eee7eccb",
   "metadata": {},
   "source": [
    "### Codon-to-amino acid mapping based on the genetic code table"
   ]
  },
  {
   "cell_type": "code",
   "execution_count": 15,
   "id": "936f6531-fbca-4527-99d4-dcaedf6b2353",
   "metadata": {},
   "outputs": [],
   "source": [
    "codon_to_amino_acid = {\n",
    "    'ATA':'I', 'ATC':'I', 'ATT':'I', 'ATG':'M', \n",
    "    'ACA':'T', 'ACC':'T', 'ACG':'T', 'ACT':'T', \n",
    "    'AAC':'N', 'AAT':'N', 'AAA':'K', 'AAG':'K', \n",
    "    'AGC':'S', 'AGT':'S', 'AGA':'R', 'AGG':'R',                 \n",
    "    'CTA':'L', 'CTC':'L', 'CTG':'L', 'CTT':'L', \n",
    "    'CCA':'P', 'CCC':'P', 'CCG':'P', 'CCT':'P', \n",
    "    'CAC':'H', 'CAT':'H', 'CAA':'Q', 'CAG':'Q', \n",
    "    'CGA':'R', 'CGC':'R', 'CGG':'R', 'CGT':'R', \n",
    "    'GTA':'V', 'GTC':'V', 'GTG':'V', 'GTT':'V', \n",
    "    'GCA':'A', 'GCC':'A', 'GCG':'A', 'GCT':'A', \n",
    "    'GAC':'D', 'GAT':'D', 'GAA':'E', 'GAG':'E', \n",
    "    'GGA':'G', 'GGC':'G', 'GGG':'G', 'GGT':'G', \n",
    "    'TCA':'S', 'TCC':'S', 'TCG':'S', 'TCT':'S', \n",
    "    'TTC':'F', 'TTT':'F', 'TTA':'L', 'TTG':'L', \n",
    "    'TAC':'Y', 'TAT':'Y', 'TAA':'_', 'TAG':'_', \n",
    "    'TGC':'C', 'TGT':'C', 'TGA':'_', 'TGG':'W',\n",
    "}"
   ]
  },
  {
   "cell_type": "markdown",
   "id": "11c73e83-3457-4bfb-ba48-b00d35b431ce",
   "metadata": {},
   "source": [
    "### Translating DNA sequence to Protein sequence"
   ]
  },
  {
   "cell_type": "code",
   "execution_count": 52,
   "id": "96fb3398-c3a5-494c-aece-96896c97b2ea",
   "metadata": {},
   "outputs": [],
   "source": [
    "def translate_dna_to_protein(dna_sequence):\n",
    "\n",
    "    dna_sequence = dna_sequence.upper()\n",
    "    \n",
    "    start = dna_sequence.find(\"ATG\")\n",
    "    if start == -1:\n",
    "        return \"No start codon (ATG) found in the sequence.\"\n",
    "    \n",
    "    # Translating\n",
    "    protein_sequence = \"\"\n",
    "    for i in range(start, len(dna_sequence), 3):\n",
    "        codon = dna_sequence[i:i+3]\n",
    "        \n",
    "        if len(codon) != 3:\n",
    "            break\n",
    "        \n",
    "        amino_acid = codon_to_amino_acid.get(codon, '')\n",
    "        \n",
    "        if amino_acid == '_':\n",
    "            break\n",
    "        \n",
    "        protein_sequence += amino_acid\n",
    "\n",
    "    return protein_sequence"
   ]
  },
  {
   "cell_type": "code",
   "execution_count": 53,
   "id": "a900cb4b-ee7c-4b08-9255-bb60133412c0",
   "metadata": {},
   "outputs": [
    {
     "name": "stdout",
     "output_type": "stream",
     "text": [
      "Aminoacid seq.: MAIVMGR\n"
     ]
    }
   ],
   "source": [
    "dna_sequence = \"ATGGCCATTGTAATGGGCCGCTGAAAGGGTGCCCGATAG\"\n",
    "protein = translate_dna_to_protein(dna_sequence)\n",
    "print(\"Aminoacid seq.:\", protein)"
   ]
  }
 ],
 "metadata": {
  "kernelspec": {
   "display_name": "notebookFSP",
   "language": "python",
   "name": "notebookfsp"
  },
  "language_info": {
   "codemirror_mode": {
    "name": "ipython",
    "version": 3
   },
   "file_extension": ".py",
   "mimetype": "text/x-python",
   "name": "python",
   "nbconvert_exporter": "python",
   "pygments_lexer": "ipython3",
   "version": "3.12.7"
  }
 },
 "nbformat": 4,
 "nbformat_minor": 5
}
