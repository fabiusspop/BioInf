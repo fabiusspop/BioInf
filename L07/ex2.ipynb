{
 "cells": [
  {
   "cell_type": "markdown",
   "metadata": {},
   "source": [
    "### Exercise 2: \n",
    "Design a software application that uses the sample file as an input. \n",
    "\n",
    "Find a method for this implemenntation that *aligns the samples one by one in order to detect possible matches*.\n",
    "\n",
    "Once a match is found between 2 samples, we consider that **a small piece from the original sequence is found.**\n",
    "\n",
    "Thus, this repetitive comparison between samples will allow us to **gradually** build up the original sequence. \n",
    "\n",
    "In this assignment, you may consider that the original DNA sequence from the previous assignment (ex1.ipynb), is unknown. \n",
    "\n",
    "This current assignment presumes that the sample file is provided by the `shotgun sequencing machine`, thus, our first assignment was able to emulate the results of the sequencing machine."
   ]
  },
  {
   "cell_type": "code",
   "execution_count": 11,
   "metadata": {},
   "outputs": [],
   "source": [
    "def align_samples(samples):\n",
    "    \"\"\" Aligns samples to detect possible matches. \"\"\"\n",
    "    \n",
    "    matches = []\n",
    "    original = ''\n",
    "    \n",
    "    # Tracking unique segments\n",
    "    seen_segments = set()\n",
    "    \n",
    "    for i in range(len(samples)):\n",
    "        for j in range(i + 1, len(samples)):\n",
    "            # Checking for overlap\n",
    "            if samples[i] in samples[j] or samples[j] in samples[i]:\n",
    "                matches.append((samples[i], i, j))\n",
    "                \n",
    "                if samples[i] not in seen_segments:\n",
    "                    original += samples[i]\n",
    "                    seen_segments.add(samples[i])\n",
    "                    \n",
    "                if samples[j] not in seen_segments:\n",
    "                    original += samples[j]\n",
    "                    seen_segments.add(samples[j])\n",
    "                         \n",
    "                \n",
    "    return matches, original"
   ]
  },
  {
   "cell_type": "markdown",
   "metadata": {},
   "source": [
    "NOTE: In order to test `ex2`, one should first run `ex1` and have the following files generated:\n",
    "* `dna.txt`\n",
    "* `samples.txt`"
   ]
  },
  {
   "cell_type": "code",
   "execution_count": 15,
   "metadata": {},
   "outputs": [],
   "source": [
    "# with open('samples.txt', 'r') as f:\n",
    "#     samples = f.read().splitlines()\n",
    "\n",
    "# matches, original_dna = align_samples(samples)\n",
    "# print(original_dna[:100])"
   ]
  },
  {
   "cell_type": "code",
   "execution_count": null,
   "metadata": {},
   "outputs": [],
   "source": []
  }
 ],
 "metadata": {
  "kernelspec": {
   "display_name": "notebookFSP",
   "language": "python",
   "name": "python3"
  },
  "language_info": {
   "codemirror_mode": {
    "name": "ipython",
    "version": 3
   },
   "file_extension": ".py",
   "mimetype": "text/x-python",
   "name": "python",
   "nbconvert_exporter": "python",
   "pygments_lexer": "ipython3",
   "version": "3.12.7"
  }
 },
 "nbformat": 4,
 "nbformat_minor": 2
}
