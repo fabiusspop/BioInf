{
 "cells": [
  {
   "cell_type": "markdown",
   "metadata": {},
   "source": [
    "### Exercise 1: \n",
    "Design a software implementation that is able to simulate the `shotgun process`: \n",
    "\n",
    "a) Design a module that generates a random DNA sequence of 100 000 nucleotides.\n",
    "\n",
    "b) The output (the random DNA seq.) should be used by another module for collecting samples of above the output DNA seq. that has been generated. These samples should be DNA segments between 1000 and 2000 nucleotides in length. The samples are taken randomly from the input sequence.\n",
    "\n",
    "At the end of this process you should have 200 000 samples stored line by line stored line by line in a text file. "
   ]
  },
  {
   "cell_type": "code",
   "execution_count": 2,
   "metadata": {},
   "outputs": [],
   "source": [
    "import random"
   ]
  },
  {
   "cell_type": "markdown",
   "metadata": {},
   "source": [
    "Solution to **a)**"
   ]
  },
  {
   "cell_type": "code",
   "execution_count": 3,
   "metadata": {},
   "outputs": [],
   "source": [
    "def generate_random_dna(length = 100000):\n",
    "    \"\"\" Generates a random DNA sequence of length 100000.\"\"\"\n",
    "    \n",
    "    return ''.join(random.choices('ACGT', k = length))"
   ]
  },
  {
   "cell_type": "markdown",
   "metadata": {},
   "source": [
    "Solution to **b)**"
   ]
  },
  {
   "cell_type": "code",
   "execution_count": 4,
   "metadata": {},
   "outputs": [],
   "source": [
    "def collect_samples(input_sequence, num_samples = 100000, min_length = 1000, max_length = 2000):\n",
    "    \"\"\" Collects random samples from a DNA sequence. \"\"\"\n",
    "    \n",
    "    samples = []\n",
    "    \n",
    "    for _ in range(num_samples):\n",
    "        sample_length = random.randint(min_length, max_length)\n",
    "        start_index = random.randint(0, len(input_sequence) - sample_length)\n",
    "        samples.append(input_sequence[start_index: start_index + sample_length])\n",
    "    return samples"
   ]
  },
  {
   "cell_type": "code",
   "execution_count": 13,
   "metadata": {},
   "outputs": [],
   "source": [
    "def save_to_file(samples, filename):\n",
    "    with open(filename, 'w') as f: \n",
    "        for sample in samples: \n",
    "            f.write(sample + '\\n')"
   ]
  },
  {
   "cell_type": "code",
   "execution_count": 12,
   "metadata": {},
   "outputs": [],
   "source": [
    "def save_to_file_dna(samples, filename):\n",
    "    with open(filename, 'w') as f: \n",
    "        for sample in samples: \n",
    "            f.write(sample)"
   ]
  },
  {
   "cell_type": "code",
   "execution_count": 14,
   "metadata": {},
   "outputs": [],
   "source": [
    "dna_sequence = generate_random_dna()\n",
    "save_to_file_dna(dna_sequence, 'dna.txt')\n",
    "samples = collect_samples(dna_sequence)\n",
    "save_to_file(samples, 'samples.txt')"
   ]
  },
  {
   "cell_type": "code",
   "execution_count": null,
   "metadata": {},
   "outputs": [],
   "source": []
  }
 ],
 "metadata": {
  "kernelspec": {
   "display_name": "notebookFSP",
   "language": "python",
   "name": "python3"
  },
  "language_info": {
   "codemirror_mode": {
    "name": "ipython",
    "version": 3
   },
   "file_extension": ".py",
   "mimetype": "text/x-python",
   "name": "python",
   "nbconvert_exporter": "python",
   "pygments_lexer": "ipython3",
   "version": "3.12.7"
  }
 },
 "nbformat": 4,
 "nbformat_minor": 2
}
